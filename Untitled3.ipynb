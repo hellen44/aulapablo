{
  "nbformat": 4,
  "nbformat_minor": 0,
  "metadata": {
    "colab": {
      "provenance": [],
      "authorship_tag": "ABX9TyPiVOaHRZPUMVmNAXrvL6sf",
      "include_colab_link": true
    },
    "kernelspec": {
      "name": "python3",
      "display_name": "Python 3"
    },
    "language_info": {
      "name": "python"
    }
  },
  "cells": [
    {
      "cell_type": "markdown",
      "metadata": {
        "id": "view-in-github",
        "colab_type": "text"
      },
      "source": [
        "<a href=\"https://colab.research.google.com/github/hellen44/aulapablo/blob/main/Untitled3.ipynb\" target=\"_parent\"><img src=\"https://colab.research.google.com/assets/colab-badge.svg\" alt=\"Open In Colab\"/></a>"
      ]
    },
    {
      "cell_type": "code",
      "execution_count": 1,
      "metadata": {
        "id": "n-_NvdyjFq4s"
      },
      "outputs": [],
      "source": [
        "#declaraçao da funçao\n",
        "def my_first_function():\n",
        "  print('minha primeira funçao')"
      ]
    },
    {
      "cell_type": "code",
      "source": [
        "#chama ela\n",
        "my_first_function()"
      ],
      "metadata": {
        "colab": {
          "base_uri": "https://localhost:8080/"
        },
        "id": "3TouKcKUIHvi",
        "outputId": "fdf48152-996c-4cf2-ca65-7e1900b806ae"
      },
      "execution_count": 2,
      "outputs": [
        {
          "output_type": "stream",
          "name": "stdout",
          "text": [
            "minha primeira funçao\n"
          ]
        }
      ]
    },
    {
      "cell_type": "code",
      "source": [
        "def pronomeTratam(pronome):\n",
        "  print(pronome + \"Hellen\")"
      ],
      "metadata": {
        "id": "CCiRHeK_Iv46"
      },
      "execution_count": 3,
      "outputs": []
    },
    {
      "cell_type": "code",
      "source": [
        "pronomeTratam('Doutora ')\n",
        "pronomeTratam('Ilmo ')\n",
        "pronomeTratam('Seu ')"
      ],
      "metadata": {
        "colab": {
          "base_uri": "https://localhost:8080/"
        },
        "id": "FzK7DFOnJD66",
        "outputId": "124f2215-81f7-41da-95e5-49d3dd0dcf02"
      },
      "execution_count": 5,
      "outputs": [
        {
          "output_type": "stream",
          "name": "stdout",
          "text": [
            "Doutora Hellen\n",
            "Ilmo Hellen\n",
            "Seu Hellen\n"
          ]
        }
      ]
    },
    {
      "cell_type": "code",
      "source": [
        "def tratamNome(pronome, nome):\n",
        "  print(pronome, nome)"
      ],
      "metadata": {
        "id": "YH6feNgZKde5"
      },
      "execution_count": 11,
      "outputs": []
    },
    {
      "cell_type": "code",
      "source": [
        "tratamNome('Dr.', 'Lukas')"
      ],
      "metadata": {
        "colab": {
          "base_uri": "https://localhost:8080/"
        },
        "id": "W7Z45mhpK0mJ",
        "outputId": "959f9140-f198-4272-cca3-0ae6e8b9cc39"
      },
      "execution_count": 12,
      "outputs": [
        {
          "output_type": "stream",
          "name": "stdout",
          "text": [
            "Dr. Lukas\n"
          ]
        }
      ]
    },
    {
      "cell_type": "code",
      "source": [
        "def NomeEAno(nome, ano):\n",
        "  idade = 2023 - ano\n",
        "  print(nome, idade, 'anos')"
      ],
      "metadata": {
        "id": "QZfwWKxlMWhh"
      },
      "execution_count": 23,
      "outputs": []
    },
    {
      "cell_type": "code",
      "source": [
        "NomeEAno('Hellen', 2004)"
      ],
      "metadata": {
        "colab": {
          "base_uri": "https://localhost:8080/"
        },
        "id": "h49NRtA0NPs1",
        "outputId": "d5d73917-9c91-46b9-a4ad-e8da995df7d7"
      },
      "execution_count": 25,
      "outputs": [
        {
          "output_type": "stream",
          "name": "stdout",
          "text": [
            "Hellen 19 anos\n"
          ]
        }
      ]
    },
    {
      "cell_type": "code",
      "source": [
        "def calculoimc(altura, peso):\n",
        "  print(peso/altura**2)\n"
      ],
      "metadata": {
        "id": "LKfualhXPIaJ"
      },
      "execution_count": 26,
      "outputs": []
    },
    {
      "cell_type": "code",
      "source": [
        "#J = C * i * t\n"
      ],
      "metadata": {
        "id": "1Y_L0Qk8ZFtW"
      },
      "execution_count": 27,
      "outputs": []
    },
    {
      "cell_type": "code",
      "source": [
        "def jurosSimples(emprestimo, tempo):\n",
        "  return emprestimo * 0.025 * tempo"
      ],
      "metadata": {
        "id": "GYhkhNKcdB5u"
      },
      "execution_count": 28,
      "outputs": []
    },
    {
      "cell_type": "code",
      "source": [
        "jurosSimples(2459, 4)"
      ],
      "metadata": {
        "colab": {
          "base_uri": "https://localhost:8080/"
        },
        "id": "tQ8L9fpVfJvC",
        "outputId": "118bcc8b-b61c-4004-a234-0d0ad9f54663"
      },
      "execution_count": 30,
      "outputs": [
        {
          "output_type": "execute_result",
          "data": {
            "text/plain": [
              "245.9"
            ]
          },
          "metadata": {},
          "execution_count": 30
        }
      ]
    }
  ]
}