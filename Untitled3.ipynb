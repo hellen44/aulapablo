{
  "nbformat": 4,
  "nbformat_minor": 0,
  "metadata": {
    "colab": {
      "provenance": [],
      "authorship_tag": "ABX9TyOOcF3BDP3IOwIuOctNzE7y",
      "include_colab_link": true
    },
    "kernelspec": {
      "name": "python3",
      "display_name": "Python 3"
    },
    "language_info": {
      "name": "python"
    }
  },
  "cells": [
    {
      "cell_type": "markdown",
      "metadata": {
        "id": "view-in-github",
        "colab_type": "text"
      },
      "source": [
        "<a href=\"https://colab.research.google.com/github/hellen44/aulapablo/blob/main/Untitled3.ipynb\" target=\"_parent\"><img src=\"https://colab.research.google.com/assets/colab-badge.svg\" alt=\"Open In Colab\"/></a>"
      ]
    },
    {
      "cell_type": "code",
      "execution_count": null,
      "metadata": {
        "id": "n-_NvdyjFq4s"
      },
      "outputs": [],
      "source": [
        "#declaraçao da funçao\n",
        "def my_first_function():\n",
        "  print('minha primeira funçao')"
      ]
    },
    {
      "cell_type": "code",
      "source": [
        "#chama ela\n",
        "my_first_function()"
      ],
      "metadata": {
        "colab": {
          "base_uri": "https://localhost:8080/"
        },
        "id": "3TouKcKUIHvi",
        "outputId": "fdf48152-996c-4cf2-ca65-7e1900b806ae"
      },
      "execution_count": null,
      "outputs": [
        {
          "output_type": "stream",
          "name": "stdout",
          "text": [
            "minha primeira funçao\n"
          ]
        }
      ]
    },
    {
      "cell_type": "code",
      "source": [
        "def pronomeTratam(pronome):\n",
        "  print(pronome + \"Hellen\")"
      ],
      "metadata": {
        "id": "CCiRHeK_Iv46"
      },
      "execution_count": null,
      "outputs": []
    },
    {
      "cell_type": "code",
      "source": [
        "pronomeTratam('Doutora ')\n",
        "pronomeTratam('Ilmo ')\n",
        "pronomeTratam('Seu ')"
      ],
      "metadata": {
        "colab": {
          "base_uri": "https://localhost:8080/"
        },
        "id": "FzK7DFOnJD66",
        "outputId": "124f2215-81f7-41da-95e5-49d3dd0dcf02"
      },
      "execution_count": null,
      "outputs": [
        {
          "output_type": "stream",
          "name": "stdout",
          "text": [
            "Doutora Hellen\n",
            "Ilmo Hellen\n",
            "Seu Hellen\n"
          ]
        }
      ]
    },
    {
      "cell_type": "code",
      "source": [
        "def tratamNome(pronome, nome):\n",
        "  print(pronome, nome)"
      ],
      "metadata": {
        "id": "YH6feNgZKde5"
      },
      "execution_count": null,
      "outputs": []
    },
    {
      "cell_type": "code",
      "source": [
        "tratamNome('Dr.', 'Lukas')"
      ],
      "metadata": {
        "colab": {
          "base_uri": "https://localhost:8080/"
        },
        "id": "W7Z45mhpK0mJ",
        "outputId": "959f9140-f198-4272-cca3-0ae6e8b9cc39"
      },
      "execution_count": null,
      "outputs": [
        {
          "output_type": "stream",
          "name": "stdout",
          "text": [
            "Dr. Lukas\n"
          ]
        }
      ]
    },
    {
      "cell_type": "code",
      "source": [
        "def NomeEAno(nome, ano):\n",
        "  idade = 2023 - ano\n",
        "  print(nome, idade, 'anos')"
      ],
      "metadata": {
        "id": "QZfwWKxlMWhh"
      },
      "execution_count": null,
      "outputs": []
    },
    {
      "cell_type": "code",
      "source": [
        "NomeEAno('Hellen', 2004)"
      ],
      "metadata": {
        "colab": {
          "base_uri": "https://localhost:8080/"
        },
        "id": "h49NRtA0NPs1",
        "outputId": "d5d73917-9c91-46b9-a4ad-e8da995df7d7"
      },
      "execution_count": null,
      "outputs": [
        {
          "output_type": "stream",
          "name": "stdout",
          "text": [
            "Hellen 19 anos\n"
          ]
        }
      ]
    },
    {
      "cell_type": "code",
      "source": [
        "def calculoimc(altura, peso):\n",
        "  print(peso/altura**2)\n"
      ],
      "metadata": {
        "id": "LKfualhXPIaJ"
      },
      "execution_count": null,
      "outputs": []
    },
    {
      "cell_type": "code",
      "source": [
        "#J = C * i * t\n"
      ],
      "metadata": {
        "id": "1Y_L0Qk8ZFtW"
      },
      "execution_count": null,
      "outputs": []
    },
    {
      "cell_type": "code",
      "source": [
        "def jurosSimples(emprestimo, tempo):\n",
        "  return emprestimo * 0.025 * tempo"
      ],
      "metadata": {
        "id": "GYhkhNKcdB5u"
      },
      "execution_count": null,
      "outputs": []
    },
    {
      "cell_type": "code",
      "source": [
        "jurosSimples(2459, 4)"
      ],
      "metadata": {
        "colab": {
          "base_uri": "https://localhost:8080/"
        },
        "id": "tQ8L9fpVfJvC",
        "outputId": "118bcc8b-b61c-4004-a234-0d0ad9f54663"
      },
      "execution_count": null,
      "outputs": [
        {
          "output_type": "execute_result",
          "data": {
            "text/plain": [
              "245.9"
            ]
          },
          "metadata": {},
          "execution_count": 30
        }
      ]
    },
    {
      "cell_type": "code",
      "source": [
        "ano_nascimento = int(input(\"digite seu ano de nascimemto fdp: \"))\n",
        "idade = 2023 - ano_nascimento \n",
        "print (\"sua idade é de \" , idade, \"anos\")"
      ],
      "metadata": {
        "colab": {
          "base_uri": "https://localhost:8080/"
        },
        "id": "hs_ttsLiVoI8",
        "outputId": "12297238-f4cd-44a4-a0bc-cbb4468880b1"
      },
      "execution_count": 7,
      "outputs": [
        {
          "output_type": "stream",
          "name": "stdout",
          "text": [
            "digite seu ano de nascimemto fdp: 2004\n",
            "sua idade é de  19 anos\n"
          ]
        }
      ]
    },
    {
      "cell_type": "code",
      "source": [
        "#criando listas\n",
        "lista_vazia = []"
      ],
      "metadata": {
        "id": "O9QRuHUVbEMP"
      },
      "execution_count": 8,
      "outputs": []
    },
    {
      "cell_type": "code",
      "source": [
        "#lista com elementos\n",
        "lista_com_elementos = ['eu', 'me']"
      ],
      "metadata": {
        "id": "4l0zY-x9cTlB"
      },
      "execution_count": 9,
      "outputs": []
    },
    {
      "cell_type": "code",
      "source": [
        "#pegar os numbers de uma lista\n",
        "#criar outra lista com o dobro\n",
        "nums = [6,5,4]"
      ],
      "metadata": {
        "id": "kZZkklErlxQX"
      },
      "execution_count": 10,
      "outputs": []
    },
    {
      "cell_type": "code",
      "source": [
        "listah = [2,4,6,8]"
      ],
      "metadata": {
        "id": "4Jd5tRNKoEex"
      },
      "execution_count": 11,
      "outputs": []
    },
    {
      "cell_type": "code",
      "source": [
        "listah = list(map(lambda x: x**2, listah))\n",
        "listah"
      ],
      "metadata": {
        "colab": {
          "base_uri": "https://localhost:8080/"
        },
        "id": "MFc7oPtQomP7",
        "outputId": "558d1004-711f-45b8-8c31-127fd2801451"
      },
      "execution_count": 12,
      "outputs": [
        {
          "output_type": "execute_result",
          "data": {
            "text/plain": [
              "[4, 16, 36, 64]"
            ]
          },
          "metadata": {},
          "execution_count": 12
        }
      ]
    },
    {
      "cell_type": "code",
      "source": [
        "produtos = ['nutella', 'cheetos', 'danone', 'cereais']"
      ],
      "metadata": {
        "id": "-Daa2uspquw_"
      },
      "execution_count": 13,
      "outputs": []
    },
    {
      "cell_type": "code",
      "source": [
        "listah = list(map(lambda x: len(x), produtos))\n",
        "listah"
      ],
      "metadata": {
        "colab": {
          "base_uri": "https://localhost:8080/"
        },
        "id": "dbWQyTK9rcz3",
        "outputId": "b83c3af5-730f-40af-876b-1a9aa2d153f7"
      },
      "execution_count": 19,
      "outputs": [
        {
          "output_type": "execute_result",
          "data": {
            "text/plain": [
              "[7, 7, 6, 7]"
            ]
          },
          "metadata": {},
          "execution_count": 19
        }
      ]
    },
    {
      "cell_type": "code",
      "source": [
        "precos = [9.99, 4.44, 5.44]"
      ],
      "metadata": {
        "id": "bMio3UIJtoHp"
      },
      "execution_count": 20,
      "outputs": []
    },
    {
      "cell_type": "code",
      "source": [
        "listah = list(map(lambda x: x+2, precos))\n",
        "listah"
      ],
      "metadata": {
        "colab": {
          "base_uri": "https://localhost:8080/"
        },
        "id": "KJBO0ZnutwBo",
        "outputId": "8c816a1e-d33d-4823-eb47-16d6455af345"
      },
      "execution_count": 23,
      "outputs": [
        {
          "output_type": "execute_result",
          "data": {
            "text/plain": [
              "[11.99, 6.44, 7.44]"
            ]
          },
          "metadata": {},
          "execution_count": 23
        }
      ]
    },
    {
      "cell_type": "code",
      "source": [
        "notas = [7 , 9 , 10 , 6.5 , 5.5]"
      ],
      "metadata": {
        "id": "wc7VP1WKvib2"
      },
      "execution_count": 24,
      "outputs": []
    },
    {
      "cell_type": "code",
      "source": [
        "aprovados = list(filter(lambda x : x>=7, notas))\n",
        "aprovados"
      ],
      "metadata": {
        "colab": {
          "base_uri": "https://localhost:8080/"
        },
        "id": "ZmUwbtzDv81s",
        "outputId": "89fa8617-e309-4928-ae36-5949be1c3a4e"
      },
      "execution_count": 30,
      "outputs": [
        {
          "output_type": "execute_result",
          "data": {
            "text/plain": [
              "[7, 9, 10]"
            ]
          },
          "metadata": {},
          "execution_count": 30
        }
      ]
    }
  ]
}