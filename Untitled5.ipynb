{
  "nbformat": 4,
  "nbformat_minor": 0,
  "metadata": {
    "colab": {
      "provenance": [],
      "authorship_tag": "ABX9TyPxFZOa8yG9pxu1TNlDqyAq",
      "include_colab_link": true
    },
    "kernelspec": {
      "name": "python3",
      "display_name": "Python 3"
    },
    "language_info": {
      "name": "python"
    }
  },
  "cells": [
    {
      "cell_type": "markdown",
      "metadata": {
        "id": "view-in-github",
        "colab_type": "text"
      },
      "source": [
        "<a href=\"https://colab.research.google.com/github/hellen44/aulapablo/blob/main/Untitled5.ipynb\" target=\"_parent\"><img src=\"https://colab.research.google.com/assets/colab-badge.svg\" alt=\"Open In Colab\"/></a>"
      ]
    },
    {
      "cell_type": "code",
      "execution_count": null,
      "metadata": {
        "id": "7dbQPDN1EHrk"
      },
      "outputs": [],
      "source": [
        "#funçao calcula media \n",
        "def calculaMedia(x,y,z):\n",
        "  return (x+y+z)/3"
      ]
    },
    {
      "cell_type": "code",
      "source": [],
      "metadata": {
        "id": "GFxTbcW_GaHb"
      },
      "execution_count": null,
      "outputs": []
    },
    {
      "cell_type": "code",
      "source": [
        "def mediaTotal (*notas):\n",
        "  soma = 0\n",
        "  for nota in notas:\n",
        "    soma += nota\n",
        "  media = soma/len(notas)\n",
        "  print('A media é: ', media)"
      ],
      "metadata": {
        "id": "lOpsVG20MYWJ"
      },
      "execution_count": null,
      "outputs": []
    },
    {
      "cell_type": "code",
      "source": [
        "mediaTotal(1,2,3,4,4,4,4,4)\n",
        "print('phoda')"
      ],
      "metadata": {
        "colab": {
          "base_uri": "https://localhost:8080/"
        },
        "id": "Cvljv8G6Nx4p",
        "outputId": "1fe06b46-e6f4-4346-faf4-30943157e80d"
      },
      "execution_count": null,
      "outputs": [
        {
          "output_type": "stream",
          "name": "stdout",
          "text": [
            "A media é:  3.25\n",
            "phoda\n"
          ]
        }
      ]
    },
    {
      "cell_type": "code",
      "source": [
        "def retornaBig(*numeros):\n",
        "  maior = 0\n",
        "  for n in numeros:\n",
        "    if(n >= maior):\n",
        "      maior = n \n",
        "  return maior"
      ],
      "metadata": {
        "id": "mSEamFFsY47Q"
      },
      "execution_count": null,
      "outputs": []
    },
    {
      "cell_type": "code",
      "source": [
        "retornaBig(6,7,8,44,1)"
      ],
      "metadata": {
        "colab": {
          "base_uri": "https://localhost:8080/"
        },
        "id": "oou0tJ2qcEeB",
        "outputId": "6405071d-b754-44a5-acea-5a8d776f8168"
      },
      "execution_count": null,
      "outputs": [
        {
          "output_type": "execute_result",
          "data": {
            "text/plain": [
              "44"
            ]
          },
          "metadata": {},
          "execution_count": 22
        }
      ]
    },
    {
      "cell_type": "code",
      "source": [
        "#valor de parametro padrao\n",
        "def nacionalidade(country = 'cuba'):\n",
        "  print('eu nasci em: '+ country)"
      ],
      "metadata": {
        "id": "rmI5937yeaLB"
      },
      "execution_count": null,
      "outputs": []
    },
    {
      "cell_type": "code",
      "source": [
        "nacionalidade('brasil')\n",
        "nacionalidade('nigéria')\n",
        "nacionalidade('frança')\n",
        "nacionalidade()"
      ],
      "metadata": {
        "colab": {
          "base_uri": "https://localhost:8080/"
        },
        "id": "fHh87RHbfH7w",
        "outputId": "e14d3d48-a42e-4885-f442-f3c33994d446"
      },
      "execution_count": null,
      "outputs": [
        {
          "output_type": "stream",
          "name": "stdout",
          "text": [
            "eu nasci em: brasil\n",
            "eu nasci em: nigéria\n",
            "eu nasci em: frança\n",
            "eu nasci em: cuba\n"
          ]
        }
      ]
    },
    {
      "cell_type": "code",
      "source": [
        "print(2+4)"
      ],
      "metadata": {
        "colab": {
          "base_uri": "https://localhost:8080/"
        },
        "id": "JZ1TUSIFf0Ty",
        "outputId": "6028a1ee-f4a8-47a7-f591-db867f919bc3"
      },
      "execution_count": null,
      "outputs": [
        {
          "output_type": "stream",
          "name": "stdout",
          "text": [
            "6\n"
          ]
        }
      ]
    },
    {
      "cell_type": "code",
      "source": [
        "def soma(a,b):\n",
        "  return a+b\n",
        "\n",
        "\n"
      ],
      "metadata": {
        "id": "vuy3ai_Zhy0i"
      },
      "execution_count": null,
      "outputs": []
    },
    {
      "cell_type": "code",
      "source": [
        "#1 Escreva uma função que recebe dois parametros numéricos e retorna a soma desses númenos.\n",
        "\n",
        "def somaNumeros(a, b):\n",
        "  soma = a + b\n",
        "\n",
        "  return soma"
      ],
      "metadata": {
        "id": "csDhthDUjTY8"
      },
      "execution_count": null,
      "outputs": []
    },
    {
      "cell_type": "code",
      "source": [
        "#2 Escreva uma função que recebe um número e retorna o valor absoluto.\n",
        "\n",
        "def numeroAbsoluto (num):\n",
        "    if (num < 0):\n",
        "       num = num*(-1)\n",
        "       return num\n",
        "    else:\n",
        "       return num"
      ],
      "metadata": {
        "id": "szg7LOj6jWUk"
      },
      "execution_count": null,
      "outputs": []
    },
    {
      "cell_type": "code",
      "source": [
        "len('laranja')"
      ],
      "metadata": {
        "colab": {
          "base_uri": "https://localhost:8080/"
        },
        "id": "dfWYx1zdj_KM",
        "outputId": "b8e6f6e4-9b30-4059-dc47-a09d17f37f69"
      },
      "execution_count": null,
      "outputs": [
        {
          "output_type": "execute_result",
          "data": {
            "text/plain": [
              "7"
            ]
          },
          "metadata": {},
          "execution_count": 36
        }
      ]
    },
    {
      "cell_type": "code",
      "source": [
        "tp_frutas = ('maça', 'banana', 'uva', 'pinha')\n",
        "tp_frutas"
      ],
      "metadata": {
        "id": "ZGmJczmiGeyp",
        "colab": {
          "base_uri": "https://localhost:8080/"
        },
        "outputId": "1b7df23a-5647-4624-b4e6-f09922c71ffa"
      },
      "execution_count": 4,
      "outputs": [
        {
          "output_type": "execute_result",
          "data": {
            "text/plain": [
              "('maça', 'banana', 'uva', 'pinha')"
            ]
          },
          "metadata": {},
          "execution_count": 4
        }
      ]
    },
    {
      "cell_type": "code",
      "source": [
        "lst_frutas = list(tp_frutas)\n",
        "type(lst_frutas)\n",
        "lst_frutas\n"
      ],
      "metadata": {
        "colab": {
          "base_uri": "https://localhost:8080/"
        },
        "id": "FY_ojMcBXNmU",
        "outputId": "6441cb2c-23d3-426e-eeff-a9bd5894b917"
      },
      "execution_count": 6,
      "outputs": [
        {
          "output_type": "execute_result",
          "data": {
            "text/plain": [
              "['maça', 'banana', 'uva', 'pinha']"
            ]
          },
          "metadata": {},
          "execution_count": 6
        }
      ]
    },
    {
      "cell_type": "code",
      "source": [
        "tp_meses = ('jan', 'fev', 'mar', 'abr', 'mai', 'jun', 'jul', 'ago', 'set', 'out', 'dez')\n",
        "tp_meses[3:6]"
      ],
      "metadata": {
        "colab": {
          "base_uri": "https://localhost:8080/"
        },
        "id": "-NqTcbELZX2e",
        "outputId": "8227c6b8-0df8-47be-d917-99daedd1afbb"
      },
      "execution_count": 9,
      "outputs": [
        {
          "output_type": "execute_result",
          "data": {
            "text/plain": [
              "('abr', 'mai', 'jun')"
            ]
          },
          "metadata": {},
          "execution_count": 9
        }
      ]
    },
    {
      "cell_type": "code",
      "source": [
        "uf_cod = [('PE', 81), ('RJ', 21), ('SP', 11), ('PB', 83)]\n",
        "\n",
        "sorted(uf_cod, key = lambda x : x[1])"
      ],
      "metadata": {
        "colab": {
          "base_uri": "https://localhost:8080/"
        },
        "id": "0PpWC94Fb_XB",
        "outputId": "43ab4035-0a6e-40e1-9e41-ccdef016a818"
      },
      "execution_count": 11,
      "outputs": [
        {
          "output_type": "execute_result",
          "data": {
            "text/plain": [
              "[('SP', 11), ('RJ', 21), ('PE', 81), ('PB', 83)]"
            ]
          },
          "metadata": {},
          "execution_count": 11
        }
      ]
    },
    {
      "cell_type": "code",
      "source": [
        "nome_nasc = [('Hellen', 2004),('Marcos', 1988), ('Sheyla', 1999)]\n",
        "sorted(nome_nasc, key = lambda x: x[1], reverse= True)"
      ],
      "metadata": {
        "colab": {
          "base_uri": "https://localhost:8080/"
        },
        "id": "Jm5LdQmXcxEb",
        "outputId": "9e8e11f2-be1a-4b3c-8854-9ef781ab7ffc"
      },
      "execution_count": 12,
      "outputs": [
        {
          "output_type": "execute_result",
          "data": {
            "text/plain": [
              "[('Hellen', 2004), ('Sheyla', 1999), ('Marcos', 1988)]"
            ]
          },
          "metadata": {},
          "execution_count": 12
        }
      ]
    },
    {
      "cell_type": "code",
      "source": [
        "#desempacotamento de valores\n",
        "def nome_idade_uf():\n",
        "  nome = \"Hellen\"\n",
        "  idade = 19\n",
        "  uf = 'PB'\n",
        "  return nome, idade, uf\n",
        "\n",
        "name, age, uf = nome_idade_uf()\n",
        "print(name, age, uf)"
      ],
      "metadata": {
        "colab": {
          "base_uri": "https://localhost:8080/"
        },
        "id": "IgM7TqiQlcfn",
        "outputId": "ff38f463-9f37-4b80-8257-8a0c216d9030"
      },
      "execution_count": 13,
      "outputs": [
        {
          "output_type": "stream",
          "name": "stdout",
          "text": [
            "Hellen 19 PB\n"
          ]
        }
      ]
    },
    {
      "cell_type": "code",
      "source": [
        "#mapeamento de valores\n",
        "alunos = ('Hellen', 'Renan', 'Igor', 'Murilo')\n",
        "notas = (9.0, 5, 4.5, 8.5)\n",
        "\n",
        "Av1 = tuple(zip(alunos, notas))\n",
        "\n",
        "Av1"
      ],
      "metadata": {
        "colab": {
          "base_uri": "https://localhost:8080/"
        },
        "id": "_KLtFUICn2ko",
        "outputId": "33ee0931-a1a7-4838-8d16-bb1cf9085662"
      },
      "execution_count": 14,
      "outputs": [
        {
          "output_type": "execute_result",
          "data": {
            "text/plain": [
              "(('Hellen', 9.0), ('Renan', 5), ('Igor', 4.5), ('Murilo', 8.5))"
            ]
          },
          "metadata": {},
          "execution_count": 14
        }
      ]
    },
    {
      "cell_type": "code",
      "source": [
        "def concatenaTupla (tp1, tp2):\n",
        "  return tp1 + tp2\n",
        "\n",
        "a= (2,4,5)\n",
        "b= (6,8,12)\n",
        "concatenaTupla(a,b)"
      ],
      "metadata": {
        "colab": {
          "base_uri": "https://localhost:8080/"
        },
        "id": "JzqrEpuyp2z6",
        "outputId": "d007280e-21d3-4ca5-9364-fbb4dfb94807"
      },
      "execution_count": 15,
      "outputs": [
        {
          "output_type": "execute_result",
          "data": {
            "text/plain": [
              "(2, 4, 5, 6, 8, 12)"
            ]
          },
          "metadata": {},
          "execution_count": 15
        }
      ]
    },
    {
      "cell_type": "code",
      "source": [
        "def formatada (tupla):\n",
        "  nome , logradouro, num, bairro = tupla\n",
        "  return f'Nome:{nome}, residente a {logradouro}, {num}, {bairro}.'\n",
        "\n",
        "dadosCliente = (' Hellen' , 'Rua pé na cova', '40', 'Centro')\n",
        "\n",
        "print(formatada(dadosCliente))"
      ],
      "metadata": {
        "colab": {
          "base_uri": "https://localhost:8080/"
        },
        "id": "XpEYc-A1vUlT",
        "outputId": "c22c9214-b969-49d5-cc32-b9328ab3583f"
      },
      "execution_count": 24,
      "outputs": [
        {
          "output_type": "stream",
          "name": "stdout",
          "text": [
            "Nome: Hellen, residente a Rua pé na cova, 40, Centro.\n"
          ]
        }
      ]
    }
  ]
}