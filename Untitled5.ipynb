{
  "nbformat": 4,
  "nbformat_minor": 0,
  "metadata": {
    "colab": {
      "provenance": [],
      "authorship_tag": "ABX9TyN/7AbHTujki6NZc5kp/bKf",
      "include_colab_link": true
    },
    "kernelspec": {
      "name": "python3",
      "display_name": "Python 3"
    },
    "language_info": {
      "name": "python"
    }
  },
  "cells": [
    {
      "cell_type": "markdown",
      "metadata": {
        "id": "view-in-github",
        "colab_type": "text"
      },
      "source": [
        "<a href=\"https://colab.research.google.com/github/hellen44/aulapablo/blob/main/Untitled5.ipynb\" target=\"_parent\"><img src=\"https://colab.research.google.com/assets/colab-badge.svg\" alt=\"Open In Colab\"/></a>"
      ]
    },
    {
      "cell_type": "code",
      "execution_count": 2,
      "metadata": {
        "id": "7dbQPDN1EHrk"
      },
      "outputs": [],
      "source": [
        "#funçao calcula media \n",
        "def calculaMedia(x,y,z):\n",
        "  return (x+y+z)/3"
      ]
    },
    {
      "cell_type": "code",
      "source": [
        "a = float(input('nota 1: '))\n",
        "b = float(input('nota 2: '))\n",
        "c = float(input('nota 3: '))\n",
        "\n",
        "calculaMedia(a, b, c)"
      ],
      "metadata": {
        "colab": {
          "base_uri": "https://localhost:8080/"
        },
        "id": "sQEVSG2dKJNx",
        "outputId": "3affa9bc-22ea-4ae3-e668-11659fe62625"
      },
      "execution_count": 3,
      "outputs": [
        {
          "name": "stdout",
          "output_type": "stream",
          "text": [
            "nota 1: 4\n",
            "nota 2: 4\n",
            "nota 3: 4\n"
          ]
        },
        {
          "output_type": "execute_result",
          "data": {
            "text/plain": [
              "4.0"
            ]
          },
          "metadata": {},
          "execution_count": 3
        }
      ]
    },
    {
      "cell_type": "code",
      "source": [
        "def mediaTotal (*notas):\n",
        "  soma = 0\n",
        "  for nota in notas:\n",
        "    soma += nota\n",
        "  media = soma/len(notas)\n",
        "  print('A media é: ', media)"
      ],
      "metadata": {
        "id": "lOpsVG20MYWJ"
      },
      "execution_count": 9,
      "outputs": []
    },
    {
      "cell_type": "code",
      "source": [
        "mediaTotal(1,2,3,4,4,4,4,4)\n",
        "print('phoda')"
      ],
      "metadata": {
        "colab": {
          "base_uri": "https://localhost:8080/"
        },
        "id": "Cvljv8G6Nx4p",
        "outputId": "1fe06b46-e6f4-4346-faf4-30943157e80d"
      },
      "execution_count": 13,
      "outputs": [
        {
          "output_type": "stream",
          "name": "stdout",
          "text": [
            "A media é:  3.25\n",
            "phoda\n"
          ]
        }
      ]
    },
    {
      "cell_type": "code",
      "source": [
        "def retornaBig(*numeros):\n",
        "  maior = 0\n",
        "  for n in numeros:\n",
        "    if(n >= maior):\n",
        "      maior = n \n",
        "  return maior"
      ],
      "metadata": {
        "id": "mSEamFFsY47Q"
      },
      "execution_count": 20,
      "outputs": []
    },
    {
      "cell_type": "code",
      "source": [
        "retornaBig(6,7,8,44,1)"
      ],
      "metadata": {
        "colab": {
          "base_uri": "https://localhost:8080/"
        },
        "id": "oou0tJ2qcEeB",
        "outputId": "6405071d-b754-44a5-acea-5a8d776f8168"
      },
      "execution_count": 22,
      "outputs": [
        {
          "output_type": "execute_result",
          "data": {
            "text/plain": [
              "44"
            ]
          },
          "metadata": {},
          "execution_count": 22
        }
      ]
    },
    {
      "cell_type": "code",
      "source": [
        "#valor de parametro padrao\n",
        "def nacionalidade(country = 'cuba'):\n",
        "  print('eu nasci em: '+ country)"
      ],
      "metadata": {
        "id": "rmI5937yeaLB"
      },
      "execution_count": 26,
      "outputs": []
    },
    {
      "cell_type": "code",
      "source": [
        "nacionalidade('brasil')\n",
        "nacionalidade('nigéria')\n",
        "nacionalidade('frança')\n",
        "nacionalidade()"
      ],
      "metadata": {
        "colab": {
          "base_uri": "https://localhost:8080/"
        },
        "id": "fHh87RHbfH7w",
        "outputId": "e14d3d48-a42e-4885-f442-f3c33994d446"
      },
      "execution_count": 27,
      "outputs": [
        {
          "output_type": "stream",
          "name": "stdout",
          "text": [
            "eu nasci em: brasil\n",
            "eu nasci em: nigéria\n",
            "eu nasci em: frança\n",
            "eu nasci em: cuba\n"
          ]
        }
      ]
    },
    {
      "cell_type": "code",
      "source": [
        "print(2+4)"
      ],
      "metadata": {
        "colab": {
          "base_uri": "https://localhost:8080/"
        },
        "id": "JZ1TUSIFf0Ty",
        "outputId": "6028a1ee-f4a8-47a7-f591-db867f919bc3"
      },
      "execution_count": 28,
      "outputs": [
        {
          "output_type": "stream",
          "name": "stdout",
          "text": [
            "6\n"
          ]
        }
      ]
    },
    {
      "cell_type": "code",
      "source": [
        "def soma(a,b):\n",
        "  return a+b\n",
        "\n",
        "\n"
      ],
      "metadata": {
        "id": "vuy3ai_Zhy0i"
      },
      "execution_count": 30,
      "outputs": []
    },
    {
      "cell_type": "code",
      "source": [
        "#1 Escreva uma função que recebe dois parametros numéricos e retorna a soma desses númenos.\n",
        "\n",
        "def somaNumeros(a, b):\n",
        "  soma = a + b\n",
        "\n",
        "  return soma"
      ],
      "metadata": {
        "id": "csDhthDUjTY8"
      },
      "execution_count": 34,
      "outputs": []
    },
    {
      "cell_type": "code",
      "source": [
        "#2 Escreva uma função que recebe um número e retorna o valor absoluto.\n",
        "\n",
        "def numeroAbsoluto (num):\n",
        "    if (num < 0):\n",
        "       num = num*(-1)\n",
        "       return num\n",
        "    else:\n",
        "       return num"
      ],
      "metadata": {
        "id": "szg7LOj6jWUk"
      },
      "execution_count": 35,
      "outputs": []
    },
    {
      "cell_type": "code",
      "source": [
        "len('laranja')"
      ],
      "metadata": {
        "colab": {
          "base_uri": "https://localhost:8080/"
        },
        "id": "dfWYx1zdj_KM",
        "outputId": "b8e6f6e4-9b30-4059-dc47-a09d17f37f69"
      },
      "execution_count": 36,
      "outputs": [
        {
          "output_type": "execute_result",
          "data": {
            "text/plain": [
              "7"
            ]
          },
          "metadata": {},
          "execution_count": 36
        }
      ]
    }
  ]
}